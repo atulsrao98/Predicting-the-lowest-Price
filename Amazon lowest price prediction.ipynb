{
 "cells": [
  {
   "cell_type": "code",
   "execution_count": 1,
   "metadata": {},
   "outputs": [
    {
     "name": "stderr",
     "output_type": "stream",
     "text": [
      "c:\\python37\\lib\\site-packages\\numpy\\_distributor_init.py:32: UserWarning: loaded more than 1 DLL from .libs:\n",
      "c:\\python37\\lib\\site-packages\\numpy\\.libs\\libopenblas.PYQHXLVVQ7VESDPUVUADXEVJOBGHJPAY.gfortran-win_amd64.dll\n",
      "c:\\python37\\lib\\site-packages\\numpy\\.libs\\libopenblas.TXA6YQSD3GCQQC22GEQ54J2UDCXDXHWN.gfortran-win_amd64.dll\n",
      "  stacklevel=1)\n"
     ]
    }
   ],
   "source": [
    "import numpy as np\n",
    "import pandas as pd\n",
    "import matplotlib.pyplot as plt"
   ]
  },
  {
   "cell_type": "code",
   "execution_count": 105,
   "metadata": {},
   "outputs": [],
   "source": [
    "train_data=pd.read_csv(r\"D:\\Downloads\\Dataset\\Train.csv\")\n",
    "test_data=pd.read_csv(r\"D:\\Downloads\\Dataset\\Test.csv\")"
   ]
  },
  {
   "cell_type": "code",
   "execution_count": 106,
   "metadata": {},
   "outputs": [],
   "source": [
    "train_data_d=train_data\n",
    "test_data_d=test_data"
   ]
  },
  {
   "cell_type": "code",
   "execution_count": 51,
   "metadata": {},
   "outputs": [
    {
     "data": {
      "text/plain": [
       "9798"
      ]
     },
     "execution_count": 51,
     "metadata": {},
     "output_type": "execute_result"
    }
   ],
   "source": [
    "len(train_data)"
   ]
  },
  {
   "cell_type": "code",
   "execution_count": 74,
   "metadata": {},
   "outputs": [
    {
     "data": {
      "text/html": [
       "<div>\n",
       "<style scoped>\n",
       "    .dataframe tbody tr th:only-of-type {\n",
       "        vertical-align: middle;\n",
       "    }\n",
       "\n",
       "    .dataframe tbody tr th {\n",
       "        vertical-align: top;\n",
       "    }\n",
       "\n",
       "    .dataframe thead th {\n",
       "        text-align: right;\n",
       "    }\n",
       "</style>\n",
       "<table border=\"1\" class=\"dataframe\">\n",
       "  <thead>\n",
       "    <tr style=\"text-align: right;\">\n",
       "      <th></th>\n",
       "      <th>Item_Id</th>\n",
       "      <th>Date</th>\n",
       "      <th>State_of_Country</th>\n",
       "      <th>Market_Category</th>\n",
       "      <th>Product_Category</th>\n",
       "      <th>Grade</th>\n",
       "      <th>Demand</th>\n",
       "      <th>Low_Cap_Price</th>\n",
       "      <th>High_Cap_Price</th>\n",
       "    </tr>\n",
       "  </thead>\n",
       "  <tbody>\n",
       "    <tr>\n",
       "      <td>0</td>\n",
       "      <td>IT_1</td>\n",
       "      <td>2007-07-05</td>\n",
       "      <td>0</td>\n",
       "      <td>0</td>\n",
       "      <td>0</td>\n",
       "      <td>0</td>\n",
       "      <td>0.5</td>\n",
       "      <td>2785</td>\n",
       "      <td>4240</td>\n",
       "    </tr>\n",
       "    <tr>\n",
       "      <td>1</td>\n",
       "      <td>IT_2</td>\n",
       "      <td>2007-07-05</td>\n",
       "      <td>0</td>\n",
       "      <td>1</td>\n",
       "      <td>0</td>\n",
       "      <td>0</td>\n",
       "      <td>0.7</td>\n",
       "      <td>3574</td>\n",
       "      <td>4756</td>\n",
       "    </tr>\n",
       "    <tr>\n",
       "      <td>2</td>\n",
       "      <td>IT_3</td>\n",
       "      <td>2007-07-05</td>\n",
       "      <td>0</td>\n",
       "      <td>103</td>\n",
       "      <td>0</td>\n",
       "      <td>1</td>\n",
       "      <td>1.6</td>\n",
       "      <td>5978</td>\n",
       "      <td>9669</td>\n",
       "    </tr>\n",
       "    <tr>\n",
       "      <td>3</td>\n",
       "      <td>IT_4</td>\n",
       "      <td>2007-07-05</td>\n",
       "      <td>0</td>\n",
       "      <td>103</td>\n",
       "      <td>0</td>\n",
       "      <td>0</td>\n",
       "      <td>0.0</td>\n",
       "      <td>5681</td>\n",
       "      <td>8313</td>\n",
       "    </tr>\n",
       "    <tr>\n",
       "      <td>4</td>\n",
       "      <td>IT_5</td>\n",
       "      <td>2007-07-05</td>\n",
       "      <td>0</td>\n",
       "      <td>103</td>\n",
       "      <td>0</td>\n",
       "      <td>2</td>\n",
       "      <td>0.0</td>\n",
       "      <td>4924</td>\n",
       "      <td>7257</td>\n",
       "    </tr>\n",
       "  </tbody>\n",
       "</table>\n",
       "</div>"
      ],
      "text/plain": [
       "  Item_Id        Date  State_of_Country  Market_Category  Product_Category  \\\n",
       "0    IT_1  2007-07-05                 0                0                 0   \n",
       "1    IT_2  2007-07-05                 0                1                 0   \n",
       "2    IT_3  2007-07-05                 0              103                 0   \n",
       "3    IT_4  2007-07-05                 0              103                 0   \n",
       "4    IT_5  2007-07-05                 0              103                 0   \n",
       "\n",
       "   Grade  Demand  Low_Cap_Price  High_Cap_Price  \n",
       "0      0     0.5           2785            4240  \n",
       "1      0     0.7           3574            4756  \n",
       "2      1     1.6           5978            9669  \n",
       "3      0     0.0           5681            8313  \n",
       "4      2     0.0           4924            7257  "
      ]
     },
     "execution_count": 74,
     "metadata": {},
     "output_type": "execute_result"
    }
   ],
   "source": [
    "train_data.head()"
   ]
  },
  {
   "cell_type": "code",
   "execution_count": 53,
   "metadata": {},
   "outputs": [
    {
     "data": {
      "text/html": [
       "<div>\n",
       "<style scoped>\n",
       "    .dataframe tbody tr th:only-of-type {\n",
       "        vertical-align: middle;\n",
       "    }\n",
       "\n",
       "    .dataframe tbody tr th {\n",
       "        vertical-align: top;\n",
       "    }\n",
       "\n",
       "    .dataframe thead th {\n",
       "        text-align: right;\n",
       "    }\n",
       "</style>\n",
       "<table border=\"1\" class=\"dataframe\">\n",
       "  <thead>\n",
       "    <tr style=\"text-align: right;\">\n",
       "      <th></th>\n",
       "      <th>State_of_Country</th>\n",
       "      <th>Market_Category</th>\n",
       "      <th>Product_Category</th>\n",
       "      <th>Grade</th>\n",
       "      <th>Demand</th>\n",
       "      <th>Low_Cap_Price</th>\n",
       "      <th>High_Cap_Price</th>\n",
       "    </tr>\n",
       "  </thead>\n",
       "  <tbody>\n",
       "    <tr>\n",
       "      <td>count</td>\n",
       "      <td>9798.000000</td>\n",
       "      <td>9798.000000</td>\n",
       "      <td>9798.000000</td>\n",
       "      <td>9798.000000</td>\n",
       "      <td>9798.000000</td>\n",
       "      <td>9798.000000</td>\n",
       "      <td>9798.000000</td>\n",
       "    </tr>\n",
       "    <tr>\n",
       "      <td>mean</td>\n",
       "      <td>14.278730</td>\n",
       "      <td>198.414064</td>\n",
       "      <td>2.492958</td>\n",
       "      <td>0.652072</td>\n",
       "      <td>71.977414</td>\n",
       "      <td>3500.273525</td>\n",
       "      <td>6349.838028</td>\n",
       "    </tr>\n",
       "    <tr>\n",
       "      <td>std</td>\n",
       "      <td>8.760964</td>\n",
       "      <td>169.767862</td>\n",
       "      <td>4.751807</td>\n",
       "      <td>1.032439</td>\n",
       "      <td>927.194052</td>\n",
       "      <td>2188.046803</td>\n",
       "      <td>3652.780956</td>\n",
       "    </tr>\n",
       "    <tr>\n",
       "      <td>min</td>\n",
       "      <td>0.000000</td>\n",
       "      <td>0.000000</td>\n",
       "      <td>0.000000</td>\n",
       "      <td>0.000000</td>\n",
       "      <td>0.000000</td>\n",
       "      <td>1.000000</td>\n",
       "      <td>163.000000</td>\n",
       "    </tr>\n",
       "    <tr>\n",
       "      <td>25%</td>\n",
       "      <td>3.000000</td>\n",
       "      <td>55.000000</td>\n",
       "      <td>0.000000</td>\n",
       "      <td>0.000000</td>\n",
       "      <td>0.500000</td>\n",
       "      <td>1863.250000</td>\n",
       "      <td>3878.250000</td>\n",
       "    </tr>\n",
       "    <tr>\n",
       "      <td>50%</td>\n",
       "      <td>20.000000</td>\n",
       "      <td>129.000000</td>\n",
       "      <td>0.000000</td>\n",
       "      <td>0.000000</td>\n",
       "      <td>2.000000</td>\n",
       "      <td>3124.000000</td>\n",
       "      <td>5552.500000</td>\n",
       "    </tr>\n",
       "    <tr>\n",
       "      <td>75%</td>\n",
       "      <td>21.000000</td>\n",
       "      <td>389.000000</td>\n",
       "      <td>1.000000</td>\n",
       "      <td>2.000000</td>\n",
       "      <td>10.175000</td>\n",
       "      <td>4667.500000</td>\n",
       "      <td>7993.750000</td>\n",
       "    </tr>\n",
       "    <tr>\n",
       "      <td>max</td>\n",
       "      <td>23.000000</td>\n",
       "      <td>471.000000</td>\n",
       "      <td>17.000000</td>\n",
       "      <td>3.000000</td>\n",
       "      <td>64160.500000</td>\n",
       "      <td>17580.000000</td>\n",
       "      <td>58812.000000</td>\n",
       "    </tr>\n",
       "  </tbody>\n",
       "</table>\n",
       "</div>"
      ],
      "text/plain": [
       "       State_of_Country  Market_Category  Product_Category        Grade  \\\n",
       "count       9798.000000      9798.000000       9798.000000  9798.000000   \n",
       "mean          14.278730       198.414064          2.492958     0.652072   \n",
       "std            8.760964       169.767862          4.751807     1.032439   \n",
       "min            0.000000         0.000000          0.000000     0.000000   \n",
       "25%            3.000000        55.000000          0.000000     0.000000   \n",
       "50%           20.000000       129.000000          0.000000     0.000000   \n",
       "75%           21.000000       389.000000          1.000000     2.000000   \n",
       "max           23.000000       471.000000         17.000000     3.000000   \n",
       "\n",
       "             Demand  Low_Cap_Price  High_Cap_Price  \n",
       "count   9798.000000    9798.000000     9798.000000  \n",
       "mean      71.977414    3500.273525     6349.838028  \n",
       "std      927.194052    2188.046803     3652.780956  \n",
       "min        0.000000       1.000000      163.000000  \n",
       "25%        0.500000    1863.250000     3878.250000  \n",
       "50%        2.000000    3124.000000     5552.500000  \n",
       "75%       10.175000    4667.500000     7993.750000  \n",
       "max    64160.500000   17580.000000    58812.000000  "
      ]
     },
     "execution_count": 53,
     "metadata": {},
     "output_type": "execute_result"
    }
   ],
   "source": [
    "train_data.describe()"
   ]
  },
  {
   "cell_type": "code",
   "execution_count": 54,
   "metadata": {},
   "outputs": [
    {
     "data": {
      "text/plain": [
       "Item_Id             False\n",
       "Date                False\n",
       "State_of_Country    False\n",
       "Market_Category     False\n",
       "Product_Category    False\n",
       "Grade               False\n",
       "Demand              False\n",
       "Low_Cap_Price       False\n",
       "High_Cap_Price      False\n",
       "dtype: bool"
      ]
     },
     "execution_count": 54,
     "metadata": {},
     "output_type": "execute_result"
    }
   ],
   "source": [
    "train_data.isnull().any()"
   ]
  },
  {
   "cell_type": "code",
   "execution_count": 107,
   "metadata": {},
   "outputs": [
    {
     "name": "stderr",
     "output_type": "stream",
     "text": [
      "c:\\python37\\lib\\site-packages\\ipykernel_launcher.py:4: SettingWithCopyWarning: \n",
      "A value is trying to be set on a copy of a slice from a DataFrame\n",
      "\n",
      "See the caveats in the documentation: http://pandas.pydata.org/pandas-docs/stable/user_guide/indexing.html#returning-a-view-versus-a-copy\n",
      "  after removing the cwd from sys.path.\n"
     ]
    }
   ],
   "source": [
    "train_data_d['discount']=None\n",
    "for i in range(9798):\n",
    "    discount=(train_data_d['High_Cap_Price'][i]-train_data_d['Low_Cap_Price'][i])/train_data_d['High_Cap_Price'][i]\n",
    "    train_data_d['discount'][i]=discount*100"
   ]
  },
  {
   "cell_type": "code",
   "execution_count": 56,
   "metadata": {},
   "outputs": [
    {
     "data": {
      "image/png": "[encoded data removed]",
      "text/plain": [
       "<Figure size 432x288 with 1 Axes>"
      ]
     },
     "metadata": {
      "needs_background": "light"
     },
     "output_type": "display_data"
    }
   ],
   "source": [
    "plt.bar(train_data_d['Product_Category'],train_data_d['discount'])\n",
    "plt.show()"
   ]
  },
  {
   "cell_type": "code",
   "execution_count": 57,
   "metadata": {},
   "outputs": [
    {
     "data": {
      "image/png": "[encoded data removed]",
      "text/plain": [
       "<Figure size 432x288 with 1 Axes>"
      ]
     },
     "metadata": {
      "needs_background": "light"
     },
     "output_type": "display_data"
    }
   ],
   "source": [
    "plt.bar(train_data_d['Market_Category'],train_data_d['discount'])\n",
    "plt.show()"
   ]
  },
  {
   "cell_type": "code",
   "execution_count": 108,
   "metadata": {},
   "outputs": [
    {
     "name": "stderr",
     "output_type": "stream",
     "text": [
      "c:\\python37\\lib\\site-packages\\ipykernel_launcher.py:6: SettingWithCopyWarning: \n",
      "A value is trying to be set on a copy of a slice from a DataFrame\n",
      "\n",
      "See the caveats in the documentation: http://pandas.pydata.org/pandas-docs/stable/user_guide/indexing.html#returning-a-view-versus-a-copy\n",
      "  \n",
      "c:\\python37\\lib\\site-packages\\ipykernel_launcher.py:7: SettingWithCopyWarning: \n",
      "A value is trying to be set on a copy of a slice from a DataFrame\n",
      "\n",
      "See the caveats in the documentation: http://pandas.pydata.org/pandas-docs/stable/user_guide/indexing.html#returning-a-view-versus-a-copy\n",
      "  import sys\n",
      "c:\\python37\\lib\\site-packages\\ipykernel_launcher.py:8: SettingWithCopyWarning: \n",
      "A value is trying to be set on a copy of a slice from a DataFrame\n",
      "\n",
      "See the caveats in the documentation: http://pandas.pydata.org/pandas-docs/stable/user_guide/indexing.html#returning-a-view-versus-a-copy\n",
      "  \n"
     ]
    }
   ],
   "source": [
    "train_data['year']=0\n",
    "train_data['month']=0\n",
    "train_data['day']=0\n",
    "for i in range(len(train_data['Date'])):\n",
    "    year,month,day=train_data['Date'][i].split('-')\n",
    "    train_data['year'][i]=year\n",
    "    train_data['month'][i]=month\n",
    "    train_data['day'][i]=day"
   ]
  },
  {
   "cell_type": "code",
   "execution_count": 109,
   "metadata": {},
   "outputs": [
    {
     "name": "stderr",
     "output_type": "stream",
     "text": [
      "c:\\python37\\lib\\site-packages\\ipykernel_launcher.py:6: SettingWithCopyWarning: \n",
      "A value is trying to be set on a copy of a slice from a DataFrame\n",
      "\n",
      "See the caveats in the documentation: http://pandas.pydata.org/pandas-docs/stable/user_guide/indexing.html#returning-a-view-versus-a-copy\n",
      "  \n",
      "c:\\python37\\lib\\site-packages\\ipykernel_launcher.py:7: SettingWithCopyWarning: \n",
      "A value is trying to be set on a copy of a slice from a DataFrame\n",
      "\n",
      "See the caveats in the documentation: http://pandas.pydata.org/pandas-docs/stable/user_guide/indexing.html#returning-a-view-versus-a-copy\n",
      "  import sys\n",
      "c:\\python37\\lib\\site-packages\\ipykernel_launcher.py:8: SettingWithCopyWarning: \n",
      "A value is trying to be set on a copy of a slice from a DataFrame\n",
      "\n",
      "See the caveats in the documentation: http://pandas.pydata.org/pandas-docs/stable/user_guide/indexing.html#returning-a-view-versus-a-copy\n",
      "  \n"
     ]
    }
   ],
   "source": [
    "train_data_d['year']=0\n",
    "train_data_d['month']=0\n",
    "train_data_d['day']=0\n",
    "for i in range(len(train_data_d['Date'])):\n",
    "    year,month,day=train_data_d['Date'][i].split('-')\n",
    "    train_data_d['year'][i]=int(year)\n",
    "    train_data_d['month'][i]=int(month)\n",
    "    train_data_d['day'][i]=int(day)"
   ]
  },
  {
   "cell_type": "code",
   "execution_count": 110,
   "metadata": {},
   "outputs": [],
   "source": [
    "train_data=train_data.drop('Date',axis=1)\n",
    "train_data_d=train_data_d.drop('Date',axis=1)"
   ]
  },
  {
   "cell_type": "code",
   "execution_count": 111,
   "metadata": {},
   "outputs": [],
   "source": [
    "train_data=train_data.drop('discount',axis=1)"
   ]
  },
  {
   "cell_type": "code",
   "execution_count": 112,
   "metadata": {},
   "outputs": [
    {
     "data": {
      "text/html": [
       "<div>\n",
       "<style scoped>\n",
       "    .dataframe tbody tr th:only-of-type {\n",
       "        vertical-align: middle;\n",
       "    }\n",
       "\n",
       "    .dataframe tbody tr th {\n",
       "        vertical-align: top;\n",
       "    }\n",
       "\n",
       "    .dataframe thead th {\n",
       "        text-align: right;\n",
       "    }\n",
       "</style>\n",
       "<table border=\"1\" class=\"dataframe\">\n",
       "  <thead>\n",
       "    <tr style=\"text-align: right;\">\n",
       "      <th></th>\n",
       "      <th>Item_Id</th>\n",
       "      <th>State_of_Country</th>\n",
       "      <th>Market_Category</th>\n",
       "      <th>Product_Category</th>\n",
       "      <th>Grade</th>\n",
       "      <th>Demand</th>\n",
       "      <th>Low_Cap_Price</th>\n",
       "      <th>High_Cap_Price</th>\n",
       "      <th>year</th>\n",
       "      <th>month</th>\n",
       "      <th>day</th>\n",
       "    </tr>\n",
       "  </thead>\n",
       "  <tbody>\n",
       "    <tr>\n",
       "      <td>0</td>\n",
       "      <td>IT_1</td>\n",
       "      <td>0</td>\n",
       "      <td>0</td>\n",
       "      <td>0</td>\n",
       "      <td>0</td>\n",
       "      <td>0.5</td>\n",
       "      <td>2785</td>\n",
       "      <td>4240</td>\n",
       "      <td>2007</td>\n",
       "      <td>7</td>\n",
       "      <td>5</td>\n",
       "    </tr>\n",
       "    <tr>\n",
       "      <td>1</td>\n",
       "      <td>IT_2</td>\n",
       "      <td>0</td>\n",
       "      <td>1</td>\n",
       "      <td>0</td>\n",
       "      <td>0</td>\n",
       "      <td>0.7</td>\n",
       "      <td>3574</td>\n",
       "      <td>4756</td>\n",
       "      <td>2007</td>\n",
       "      <td>7</td>\n",
       "      <td>5</td>\n",
       "    </tr>\n",
       "    <tr>\n",
       "      <td>2</td>\n",
       "      <td>IT_3</td>\n",
       "      <td>0</td>\n",
       "      <td>103</td>\n",
       "      <td>0</td>\n",
       "      <td>1</td>\n",
       "      <td>1.6</td>\n",
       "      <td>5978</td>\n",
       "      <td>9669</td>\n",
       "      <td>2007</td>\n",
       "      <td>7</td>\n",
       "      <td>5</td>\n",
       "    </tr>\n",
       "    <tr>\n",
       "      <td>3</td>\n",
       "      <td>IT_4</td>\n",
       "      <td>0</td>\n",
       "      <td>103</td>\n",
       "      <td>0</td>\n",
       "      <td>0</td>\n",
       "      <td>0.0</td>\n",
       "      <td>5681</td>\n",
       "      <td>8313</td>\n",
       "      <td>2007</td>\n",
       "      <td>7</td>\n",
       "      <td>5</td>\n",
       "    </tr>\n",
       "    <tr>\n",
       "      <td>4</td>\n",
       "      <td>IT_5</td>\n",
       "      <td>0</td>\n",
       "      <td>103</td>\n",
       "      <td>0</td>\n",
       "      <td>2</td>\n",
       "      <td>0.0</td>\n",
       "      <td>4924</td>\n",
       "      <td>7257</td>\n",
       "      <td>2007</td>\n",
       "      <td>7</td>\n",
       "      <td>5</td>\n",
       "    </tr>\n",
       "  </tbody>\n",
       "</table>\n",
       "</div>"
      ],
      "text/plain": [
       "  Item_Id  State_of_Country  Market_Category  Product_Category  Grade  Demand  \\\n",
       "0    IT_1                 0                0                 0      0     0.5   \n",
       "1    IT_2                 0                1                 0      0     0.7   \n",
       "2    IT_3                 0              103                 0      1     1.6   \n",
       "3    IT_4                 0              103                 0      0     0.0   \n",
       "4    IT_5                 0              103                 0      2     0.0   \n",
       "\n",
       "   Low_Cap_Price  High_Cap_Price  year  month  day  \n",
       "0           2785            4240  2007      7    5  \n",
       "1           3574            4756  2007      7    5  \n",
       "2           5978            9669  2007      7    5  \n",
       "3           5681            8313  2007      7    5  \n",
       "4           4924            7257  2007      7    5  "
      ]
     },
     "execution_count": 112,
     "metadata": {},
     "output_type": "execute_result"
    }
   ],
   "source": [
    "train_data.head()"
   ]
  },
  {
   "cell_type": "code",
   "execution_count": 113,
   "metadata": {},
   "outputs": [
    {
     "data": {
      "text/html": [
       "<div>\n",
       "<style scoped>\n",
       "    .dataframe tbody tr th:only-of-type {\n",
       "        vertical-align: middle;\n",
       "    }\n",
       "\n",
       "    .dataframe tbody tr th {\n",
       "        vertical-align: top;\n",
       "    }\n",
       "\n",
       "    .dataframe thead th {\n",
       "        text-align: right;\n",
       "    }\n",
       "</style>\n",
       "<table border=\"1\" class=\"dataframe\">\n",
       "  <thead>\n",
       "    <tr style=\"text-align: right;\">\n",
       "      <th></th>\n",
       "      <th>Item_Id</th>\n",
       "      <th>State_of_Country</th>\n",
       "      <th>Market_Category</th>\n",
       "      <th>Product_Category</th>\n",
       "      <th>Grade</th>\n",
       "      <th>Demand</th>\n",
       "      <th>Low_Cap_Price</th>\n",
       "      <th>High_Cap_Price</th>\n",
       "      <th>discount</th>\n",
       "      <th>year</th>\n",
       "      <th>month</th>\n",
       "      <th>day</th>\n",
       "    </tr>\n",
       "  </thead>\n",
       "  <tbody>\n",
       "    <tr>\n",
       "      <td>0</td>\n",
       "      <td>IT_1</td>\n",
       "      <td>0</td>\n",
       "      <td>0</td>\n",
       "      <td>0</td>\n",
       "      <td>0</td>\n",
       "      <td>0.5</td>\n",
       "      <td>2785</td>\n",
       "      <td>4240</td>\n",
       "      <td>34.316</td>\n",
       "      <td>2007</td>\n",
       "      <td>7</td>\n",
       "      <td>5</td>\n",
       "    </tr>\n",
       "    <tr>\n",
       "      <td>1</td>\n",
       "      <td>IT_2</td>\n",
       "      <td>0</td>\n",
       "      <td>1</td>\n",
       "      <td>0</td>\n",
       "      <td>0</td>\n",
       "      <td>0.7</td>\n",
       "      <td>3574</td>\n",
       "      <td>4756</td>\n",
       "      <td>24.8528</td>\n",
       "      <td>2007</td>\n",
       "      <td>7</td>\n",
       "      <td>5</td>\n",
       "    </tr>\n",
       "    <tr>\n",
       "      <td>2</td>\n",
       "      <td>IT_3</td>\n",
       "      <td>0</td>\n",
       "      <td>103</td>\n",
       "      <td>0</td>\n",
       "      <td>1</td>\n",
       "      <td>1.6</td>\n",
       "      <td>5978</td>\n",
       "      <td>9669</td>\n",
       "      <td>38.1735</td>\n",
       "      <td>2007</td>\n",
       "      <td>7</td>\n",
       "      <td>5</td>\n",
       "    </tr>\n",
       "    <tr>\n",
       "      <td>3</td>\n",
       "      <td>IT_4</td>\n",
       "      <td>0</td>\n",
       "      <td>103</td>\n",
       "      <td>0</td>\n",
       "      <td>0</td>\n",
       "      <td>0.0</td>\n",
       "      <td>5681</td>\n",
       "      <td>8313</td>\n",
       "      <td>31.6613</td>\n",
       "      <td>2007</td>\n",
       "      <td>7</td>\n",
       "      <td>5</td>\n",
       "    </tr>\n",
       "    <tr>\n",
       "      <td>4</td>\n",
       "      <td>IT_5</td>\n",
       "      <td>0</td>\n",
       "      <td>103</td>\n",
       "      <td>0</td>\n",
       "      <td>2</td>\n",
       "      <td>0.0</td>\n",
       "      <td>4924</td>\n",
       "      <td>7257</td>\n",
       "      <td>32.1483</td>\n",
       "      <td>2007</td>\n",
       "      <td>7</td>\n",
       "      <td>5</td>\n",
       "    </tr>\n",
       "  </tbody>\n",
       "</table>\n",
       "</div>"
      ],
      "text/plain": [
       "  Item_Id  State_of_Country  Market_Category  Product_Category  Grade  Demand  \\\n",
       "0    IT_1                 0                0                 0      0     0.5   \n",
       "1    IT_2                 0                1                 0      0     0.7   \n",
       "2    IT_3                 0              103                 0      1     1.6   \n",
       "3    IT_4                 0              103                 0      0     0.0   \n",
       "4    IT_5                 0              103                 0      2     0.0   \n",
       "\n",
       "   Low_Cap_Price  High_Cap_Price discount  year  month  day  \n",
       "0           2785            4240   34.316  2007      7    5  \n",
       "1           3574            4756  24.8528  2007      7    5  \n",
       "2           5978            9669  38.1735  2007      7    5  \n",
       "3           5681            8313  31.6613  2007      7    5  \n",
       "4           4924            7257  32.1483  2007      7    5  "
      ]
     },
     "execution_count": 113,
     "metadata": {},
     "output_type": "execute_result"
    }
   ],
   "source": [
    "train_data_d.head()"
   ]
  },
  {
   "cell_type": "code",
   "execution_count": 115,
   "metadata": {},
   "outputs": [],
   "source": [
    "X=train_data_d.loc[:,'State_of_Country':]"
   ]
  },
  {
   "cell_type": "code",
   "execution_count": 116,
   "metadata": {},
   "outputs": [],
   "source": [
    "X=X.drop('Low_Cap_Price',axis=1)\n",
    "Y=X['discount']\n",
    "X=X.drop('discount',axis=1)"
   ]
  },
  {
   "cell_type": "code",
   "execution_count": 117,
   "metadata": {},
   "outputs": [],
   "source": [
    "from sklearn.model_selection import train_test_split\n",
    "X_train , X_test , Y_train , Y_test = train_test_split(X,Y,test_size=0.1)"
   ]
  },
  {
   "cell_type": "code",
   "execution_count": 118,
   "metadata": {},
   "outputs": [
    {
     "name": "stderr",
     "output_type": "stream",
     "text": [
      "c:\\python37\\lib\\site-packages\\xgboost\\core.py:587: FutureWarning: Series.base is deprecated and will be removed in a future version\n",
      "  if getattr(data, 'base', None) is not None and \\\n"
     ]
    },
    {
     "name": "stdout",
     "output_type": "stream",
     "text": [
      "[12:17:48] WARNING: C:/Jenkins/workspace/xgboost-win64_release_0.90/src/objective/regression_obj.cu:152: reg:linear is now deprecated in favor of reg:squarederror.\n"
     ]
    },
    {
     "data": {
      "text/plain": [
       "XGBRegressor(base_score=0.5, booster='gbtree', colsample_bylevel=1,\n",
       "             colsample_bynode=1, colsample_bytree=1, gamma=0,\n",
       "             importance_type='gain', learning_rate=0.1, max_delta_step=0,\n",
       "             max_depth=3, min_child_weight=1, missing=None, n_estimators=100,\n",
       "             n_jobs=1, nthread=None, objective='reg:linear', random_state=0,\n",
       "             reg_alpha=0, reg_lambda=1, scale_pos_weight=1, seed=None,\n",
       "             silent=None, subsample=1, verbosity=1)"
      ]
     },
     "execution_count": 118,
     "metadata": {},
     "output_type": "execute_result"
    }
   ],
   "source": [
    "from xgboost import XGBRegressor\n",
    "xg_reg=XGBRegressor()\n",
    "xg_reg.fit(X_train,Y_train)"
   ]
  },
  {
   "cell_type": "code",
   "execution_count": 119,
   "metadata": {},
   "outputs": [
    {
     "name": "stderr",
     "output_type": "stream",
     "text": [
      "c:\\python37\\lib\\site-packages\\sklearn\\ensemble\\forest.py:245: FutureWarning: The default value of n_estimators will change from 10 in version 0.20 to 100 in 0.22.\n",
      "  \"10 in version 0.20 to 100 in 0.22.\", FutureWarning)\n"
     ]
    },
    {
     "data": {
      "text/plain": [
       "RandomForestRegressor(bootstrap=True, criterion='mse', max_depth=None,\n",
       "                      max_features='auto', max_leaf_nodes=None,\n",
       "                      min_impurity_decrease=0.0, min_impurity_split=None,\n",
       "                      min_samples_leaf=1, min_samples_split=2,\n",
       "                      min_weight_fraction_leaf=0.0, n_estimators=10,\n",
       "                      n_jobs=None, oob_score=False, random_state=None,\n",
       "                      verbose=0, warm_start=False)"
      ]
     },
     "execution_count": 119,
     "metadata": {},
     "output_type": "execute_result"
    }
   ],
   "source": [
    "from sklearn.ensemble import RandomForestRegressor\n",
    "for_reg=RandomForestRegressor()\n",
    "for_reg.fit(X_train,Y_train)"
   ]
  },
  {
   "cell_type": "code",
   "execution_count": 120,
   "metadata": {},
   "outputs": [
    {
     "data": {
      "text/plain": [
       "AdaBoostRegressor(base_estimator=None, learning_rate=1.0, loss='linear',\n",
       "                  n_estimators=50, random_state=None)"
      ]
     },
     "execution_count": 120,
     "metadata": {},
     "output_type": "execute_result"
    }
   ],
   "source": [
    "from sklearn.ensemble import AdaBoostRegressor\n",
    "ada_reg=AdaBoostRegressor()\n",
    "ada_reg.fit(X_train,Y_train)"
   ]
  },
  {
   "cell_type": "code",
   "execution_count": 121,
   "metadata": {},
   "outputs": [],
   "source": [
    "model1=xg_reg.predict(X_test)\n",
    "model2=for_reg.predict(X_test)\n",
    "model3=ada_reg.predict(X_test)"
   ]
  },
  {
   "cell_type": "code",
   "execution_count": 124,
   "metadata": {},
   "outputs": [
    {
     "name": "stdout",
     "output_type": "stream",
     "text": [
      "XGB : 11.426777986064293\n",
      "Random Forest : 10.280066592075514\n",
      "ADA : 14.358649761006166\n"
     ]
    }
   ],
   "source": [
    "import math\n",
    "from sklearn.metrics import mean_squared_error\n",
    "acc1=mean_squared_error(Y_test,model1)\n",
    "acc2=mean_squared_error(Y_test,model2)\n",
    "acc3=mean_squared_error(Y_test,model3)\n",
    "print(\"XGB : {}\".format(math.sqrt(acc1)))\n",
    "print(\"Random Forest : {}\".format(math.sqrt(acc2)))\n",
    "print(\"ADA : {}\".format(math.sqrt(acc3)))"
   ]
  },
  {
   "cell_type": "markdown",
   "metadata": {},
   "source": [
    "## TESTING DATA"
   ]
  },
  {
   "cell_type": "code",
   "execution_count": 126,
   "metadata": {},
   "outputs": [
    {
     "data": {
      "text/html": [
       "<div>\n",
       "<style scoped>\n",
       "    .dataframe tbody tr th:only-of-type {\n",
       "        vertical-align: middle;\n",
       "    }\n",
       "\n",
       "    .dataframe tbody tr th {\n",
       "        vertical-align: top;\n",
       "    }\n",
       "\n",
       "    .dataframe thead th {\n",
       "        text-align: right;\n",
       "    }\n",
       "</style>\n",
       "<table border=\"1\" class=\"dataframe\">\n",
       "  <thead>\n",
       "    <tr style=\"text-align: right;\">\n",
       "      <th></th>\n",
       "      <th>Item_Id</th>\n",
       "      <th>Date</th>\n",
       "      <th>State_of_Country</th>\n",
       "      <th>Market_Category</th>\n",
       "      <th>Product_Category</th>\n",
       "      <th>Grade</th>\n",
       "      <th>Demand</th>\n",
       "      <th>High_Cap_Price</th>\n",
       "    </tr>\n",
       "  </thead>\n",
       "  <tbody>\n",
       "    <tr>\n",
       "      <td>0</td>\n",
       "      <td>IT_265079</td>\n",
       "      <td>2014-01-19</td>\n",
       "      <td>0</td>\n",
       "      <td>3</td>\n",
       "      <td>0</td>\n",
       "      <td>0</td>\n",
       "      <td>0.1</td>\n",
       "      <td>5303</td>\n",
       "    </tr>\n",
       "    <tr>\n",
       "      <td>1</td>\n",
       "      <td>IT_265087</td>\n",
       "      <td>2014-01-19</td>\n",
       "      <td>0</td>\n",
       "      <td>268</td>\n",
       "      <td>0</td>\n",
       "      <td>2</td>\n",
       "      <td>1.4</td>\n",
       "      <td>10492</td>\n",
       "    </tr>\n",
       "    <tr>\n",
       "      <td>2</td>\n",
       "      <td>IT_265107</td>\n",
       "      <td>2014-01-19</td>\n",
       "      <td>0</td>\n",
       "      <td>320</td>\n",
       "      <td>0</td>\n",
       "      <td>0</td>\n",
       "      <td>13.4</td>\n",
       "      <td>24706</td>\n",
       "    </tr>\n",
       "    <tr>\n",
       "      <td>3</td>\n",
       "      <td>IT_265139</td>\n",
       "      <td>2014-01-19</td>\n",
       "      <td>17</td>\n",
       "      <td>358</td>\n",
       "      <td>0</td>\n",
       "      <td>3</td>\n",
       "      <td>5.5</td>\n",
       "      <td>23464</td>\n",
       "    </tr>\n",
       "    <tr>\n",
       "      <td>4</td>\n",
       "      <td>IT_265142</td>\n",
       "      <td>2014-01-19</td>\n",
       "      <td>18</td>\n",
       "      <td>23</td>\n",
       "      <td>5</td>\n",
       "      <td>2</td>\n",
       "      <td>0.0</td>\n",
       "      <td>6222</td>\n",
       "    </tr>\n",
       "  </tbody>\n",
       "</table>\n",
       "</div>"
      ],
      "text/plain": [
       "     Item_Id        Date  State_of_Country  Market_Category  Product_Category  \\\n",
       "0  IT_265079  2014-01-19                 0                3                 0   \n",
       "1  IT_265087  2014-01-19                 0              268                 0   \n",
       "2  IT_265107  2014-01-19                 0              320                 0   \n",
       "3  IT_265139  2014-01-19                17              358                 0   \n",
       "4  IT_265142  2014-01-19                18               23                 5   \n",
       "\n",
       "   Grade  Demand  High_Cap_Price  \n",
       "0      0     0.1            5303  \n",
       "1      2     1.4           10492  \n",
       "2      0    13.4           24706  \n",
       "3      3     5.5           23464  \n",
       "4      2     0.0            6222  "
      ]
     },
     "execution_count": 126,
     "metadata": {},
     "output_type": "execute_result"
    }
   ],
   "source": [
    "test_data.head()"
   ]
  },
  {
   "cell_type": "code",
   "execution_count": 127,
   "metadata": {},
   "outputs": [
    {
     "data": {
      "text/plain": [
       "Item_Id             False\n",
       "Date                False\n",
       "State_of_Country    False\n",
       "Market_Category     False\n",
       "Product_Category    False\n",
       "Grade               False\n",
       "Demand              False\n",
       "High_Cap_Price      False\n",
       "dtype: bool"
      ]
     },
     "execution_count": 127,
     "metadata": {},
     "output_type": "execute_result"
    }
   ],
   "source": [
    "test_data.isnull().any()"
   ]
  },
  {
   "cell_type": "code",
   "execution_count": 128,
   "metadata": {},
   "outputs": [
    {
     "name": "stderr",
     "output_type": "stream",
     "text": [
      "c:\\python37\\lib\\site-packages\\ipykernel_launcher.py:6: SettingWithCopyWarning: \n",
      "A value is trying to be set on a copy of a slice from a DataFrame\n",
      "\n",
      "See the caveats in the documentation: http://pandas.pydata.org/pandas-docs/stable/user_guide/indexing.html#returning-a-view-versus-a-copy\n",
      "  \n",
      "c:\\python37\\lib\\site-packages\\ipykernel_launcher.py:7: SettingWithCopyWarning: \n",
      "A value is trying to be set on a copy of a slice from a DataFrame\n",
      "\n",
      "See the caveats in the documentation: http://pandas.pydata.org/pandas-docs/stable/user_guide/indexing.html#returning-a-view-versus-a-copy\n",
      "  import sys\n",
      "c:\\python37\\lib\\site-packages\\ipykernel_launcher.py:8: SettingWithCopyWarning: \n",
      "A value is trying to be set on a copy of a slice from a DataFrame\n",
      "\n",
      "See the caveats in the documentation: http://pandas.pydata.org/pandas-docs/stable/user_guide/indexing.html#returning-a-view-versus-a-copy\n",
      "  \n"
     ]
    }
   ],
   "source": [
    "test_data['year']=0\n",
    "test_data['month']=0\n",
    "test_data['day']=0\n",
    "for i in range(len(test_data['Date'])):\n",
    "    year,month,day=test_data['Date'][i].split('-')\n",
    "    test_data['year'][i]=int(year)\n",
    "    test_data['month'][i]=int(month)\n",
    "    test_data['day'][i]=int(day)"
   ]
  },
  {
   "cell_type": "code",
   "execution_count": 130,
   "metadata": {},
   "outputs": [],
   "source": [
    "test_data=test_data.drop('Date',axis=1)"
   ]
  },
  {
   "cell_type": "code",
   "execution_count": 131,
   "metadata": {},
   "outputs": [
    {
     "data": {
      "text/html": [
       "<div>\n",
       "<style scoped>\n",
       "    .dataframe tbody tr th:only-of-type {\n",
       "        vertical-align: middle;\n",
       "    }\n",
       "\n",
       "    .dataframe tbody tr th {\n",
       "        vertical-align: top;\n",
       "    }\n",
       "\n",
       "    .dataframe thead th {\n",
       "        text-align: right;\n",
       "    }\n",
       "</style>\n",
       "<table border=\"1\" class=\"dataframe\">\n",
       "  <thead>\n",
       "    <tr style=\"text-align: right;\">\n",
       "      <th></th>\n",
       "      <th>Item_Id</th>\n",
       "      <th>State_of_Country</th>\n",
       "      <th>Market_Category</th>\n",
       "      <th>Product_Category</th>\n",
       "      <th>Grade</th>\n",
       "      <th>Demand</th>\n",
       "      <th>High_Cap_Price</th>\n",
       "      <th>year</th>\n",
       "      <th>month</th>\n",
       "      <th>day</th>\n",
       "    </tr>\n",
       "  </thead>\n",
       "  <tbody>\n",
       "    <tr>\n",
       "      <td>0</td>\n",
       "      <td>IT_265079</td>\n",
       "      <td>0</td>\n",
       "      <td>3</td>\n",
       "      <td>0</td>\n",
       "      <td>0</td>\n",
       "      <td>0.1</td>\n",
       "      <td>5303</td>\n",
       "      <td>2014</td>\n",
       "      <td>1</td>\n",
       "      <td>19</td>\n",
       "    </tr>\n",
       "    <tr>\n",
       "      <td>1</td>\n",
       "      <td>IT_265087</td>\n",
       "      <td>0</td>\n",
       "      <td>268</td>\n",
       "      <td>0</td>\n",
       "      <td>2</td>\n",
       "      <td>1.4</td>\n",
       "      <td>10492</td>\n",
       "      <td>2014</td>\n",
       "      <td>1</td>\n",
       "      <td>19</td>\n",
       "    </tr>\n",
       "    <tr>\n",
       "      <td>2</td>\n",
       "      <td>IT_265107</td>\n",
       "      <td>0</td>\n",
       "      <td>320</td>\n",
       "      <td>0</td>\n",
       "      <td>0</td>\n",
       "      <td>13.4</td>\n",
       "      <td>24706</td>\n",
       "      <td>2014</td>\n",
       "      <td>1</td>\n",
       "      <td>19</td>\n",
       "    </tr>\n",
       "    <tr>\n",
       "      <td>3</td>\n",
       "      <td>IT_265139</td>\n",
       "      <td>17</td>\n",
       "      <td>358</td>\n",
       "      <td>0</td>\n",
       "      <td>3</td>\n",
       "      <td>5.5</td>\n",
       "      <td>23464</td>\n",
       "      <td>2014</td>\n",
       "      <td>1</td>\n",
       "      <td>19</td>\n",
       "    </tr>\n",
       "    <tr>\n",
       "      <td>4</td>\n",
       "      <td>IT_265142</td>\n",
       "      <td>18</td>\n",
       "      <td>23</td>\n",
       "      <td>5</td>\n",
       "      <td>2</td>\n",
       "      <td>0.0</td>\n",
       "      <td>6222</td>\n",
       "      <td>2014</td>\n",
       "      <td>1</td>\n",
       "      <td>19</td>\n",
       "    </tr>\n",
       "  </tbody>\n",
       "</table>\n",
       "</div>"
      ],
      "text/plain": [
       "     Item_Id  State_of_Country  Market_Category  Product_Category  Grade  \\\n",
       "0  IT_265079                 0                3                 0      0   \n",
       "1  IT_265087                 0              268                 0      2   \n",
       "2  IT_265107                 0              320                 0      0   \n",
       "3  IT_265139                17              358                 0      3   \n",
       "4  IT_265142                18               23                 5      2   \n",
       "\n",
       "   Demand  High_Cap_Price  year  month  day  \n",
       "0     0.1            5303  2014      1   19  \n",
       "1     1.4           10492  2014      1   19  \n",
       "2    13.4           24706  2014      1   19  \n",
       "3     5.5           23464  2014      1   19  \n",
       "4     0.0            6222  2014      1   19  "
      ]
     },
     "execution_count": 131,
     "metadata": {},
     "output_type": "execute_result"
    }
   ],
   "source": [
    "test_data.head()"
   ]
  },
  {
   "cell_type": "code",
   "execution_count": 132,
   "metadata": {},
   "outputs": [],
   "source": [
    "to_predict=test_data.loc[:,'State_of_Country':]"
   ]
  },
  {
   "cell_type": "code",
   "execution_count": 133,
   "metadata": {},
   "outputs": [],
   "source": [
    "output_discout=for_reg.predict(to_predict)"
   ]
  },
  {
   "cell_type": "code",
   "execution_count": 135,
   "metadata": {},
   "outputs": [],
   "source": [
    "test_data['discount']=output_discout"
   ]
  },
  {
   "cell_type": "code",
   "execution_count": 136,
   "metadata": {},
   "outputs": [],
   "source": [
    "test_data['Low_Cap_Price']=0\n",
    "for i in range(len(test_data['High_Cap_Price'])):\n",
    "    amt=test_data['High_Cap_Price'][i]-(test_data['High_Cap_Price'][i]*(test_data['discount']/100))\n",
    "    test_data['Low_Cap_Price']=amt"
   ]
  },
  {
   "cell_type": "code",
   "execution_count": 137,
   "metadata": {},
   "outputs": [
    {
     "data": {
      "text/html": [
       "<div>\n",
       "<style scoped>\n",
       "    .dataframe tbody tr th:only-of-type {\n",
       "        vertical-align: middle;\n",
       "    }\n",
       "\n",
       "    .dataframe tbody tr th {\n",
       "        vertical-align: top;\n",
       "    }\n",
       "\n",
       "    .dataframe thead th {\n",
       "        text-align: right;\n",
       "    }\n",
       "</style>\n",
       "<table border=\"1\" class=\"dataframe\">\n",
       "  <thead>\n",
       "    <tr style=\"text-align: right;\">\n",
       "      <th></th>\n",
       "      <th>Item_Id</th>\n",
       "      <th>State_of_Country</th>\n",
       "      <th>Market_Category</th>\n",
       "      <th>Product_Category</th>\n",
       "      <th>Grade</th>\n",
       "      <th>Demand</th>\n",
       "      <th>High_Cap_Price</th>\n",
       "      <th>year</th>\n",
       "      <th>month</th>\n",
       "      <th>day</th>\n",
       "      <th>discount</th>\n",
       "      <th>Low_Cap_Price</th>\n",
       "    </tr>\n",
       "  </thead>\n",
       "  <tbody>\n",
       "    <tr>\n",
       "      <td>0</td>\n",
       "      <td>IT_265079</td>\n",
       "      <td>0</td>\n",
       "      <td>3</td>\n",
       "      <td>0</td>\n",
       "      <td>0</td>\n",
       "      <td>0.1</td>\n",
       "      <td>5303</td>\n",
       "      <td>2014</td>\n",
       "      <td>1</td>\n",
       "      <td>19</td>\n",
       "      <td>64.527474</td>\n",
       "      <td>4011.588003</td>\n",
       "    </tr>\n",
       "    <tr>\n",
       "      <td>1</td>\n",
       "      <td>IT_265087</td>\n",
       "      <td>0</td>\n",
       "      <td>268</td>\n",
       "      <td>0</td>\n",
       "      <td>2</td>\n",
       "      <td>1.4</td>\n",
       "      <td>10492</td>\n",
       "      <td>2014</td>\n",
       "      <td>1</td>\n",
       "      <td>19</td>\n",
       "      <td>78.061505</td>\n",
       "      <td>2481.024372</td>\n",
       "    </tr>\n",
       "    <tr>\n",
       "      <td>2</td>\n",
       "      <td>IT_265107</td>\n",
       "      <td>0</td>\n",
       "      <td>320</td>\n",
       "      <td>0</td>\n",
       "      <td>0</td>\n",
       "      <td>13.4</td>\n",
       "      <td>24706</td>\n",
       "      <td>2014</td>\n",
       "      <td>1</td>\n",
       "      <td>19</td>\n",
       "      <td>77.406409</td>\n",
       "      <td>2555.109173</td>\n",
       "    </tr>\n",
       "    <tr>\n",
       "      <td>3</td>\n",
       "      <td>IT_265139</td>\n",
       "      <td>17</td>\n",
       "      <td>358</td>\n",
       "      <td>0</td>\n",
       "      <td>3</td>\n",
       "      <td>5.5</td>\n",
       "      <td>23464</td>\n",
       "      <td>2014</td>\n",
       "      <td>1</td>\n",
       "      <td>19</td>\n",
       "      <td>70.141821</td>\n",
       "      <td>3376.661420</td>\n",
       "    </tr>\n",
       "    <tr>\n",
       "      <td>4</td>\n",
       "      <td>IT_265142</td>\n",
       "      <td>18</td>\n",
       "      <td>23</td>\n",
       "      <td>5</td>\n",
       "      <td>2</td>\n",
       "      <td>0.0</td>\n",
       "      <td>6222</td>\n",
       "      <td>2014</td>\n",
       "      <td>1</td>\n",
       "      <td>19</td>\n",
       "      <td>67.899552</td>\n",
       "      <td>3630.239657</td>\n",
       "    </tr>\n",
       "  </tbody>\n",
       "</table>\n",
       "</div>"
      ],
      "text/plain": [
       "     Item_Id  State_of_Country  Market_Category  Product_Category  Grade  \\\n",
       "0  IT_265079                 0                3                 0      0   \n",
       "1  IT_265087                 0              268                 0      2   \n",
       "2  IT_265107                 0              320                 0      0   \n",
       "3  IT_265139                17              358                 0      3   \n",
       "4  IT_265142                18               23                 5      2   \n",
       "\n",
       "   Demand  High_Cap_Price  year  month  day   discount  Low_Cap_Price  \n",
       "0     0.1            5303  2014      1   19  64.527474    4011.588003  \n",
       "1     1.4           10492  2014      1   19  78.061505    2481.024372  \n",
       "2    13.4           24706  2014      1   19  77.406409    2555.109173  \n",
       "3     5.5           23464  2014      1   19  70.141821    3376.661420  \n",
       "4     0.0            6222  2014      1   19  67.899552    3630.239657  "
      ]
     },
     "execution_count": 137,
     "metadata": {},
     "output_type": "execute_result"
    }
   ],
   "source": [
    "test_data.head()"
   ]
  },
  {
   "cell_type": "code",
   "execution_count": 139,
   "metadata": {},
   "outputs": [],
   "source": [
    "df2=pd.DataFrame(test_data,columns={'Item_Id','Low_Cap_Price'})"
   ]
  },
  {
   "cell_type": "code",
   "execution_count": 142,
   "metadata": {},
   "outputs": [],
   "source": [
    "df2=df2[['Item_Id','Low_Cap_Price']]"
   ]
  },
  {
   "cell_type": "code",
   "execution_count": 145,
   "metadata": {},
   "outputs": [],
   "source": [
    "df2.to_csv(r\"D:\\Downloads\\submission.csv\",index=False)"
   ]
  }
 ],
 "metadata": {
  "kernelspec": {
   "display_name": "Python 3",
   "language": "python",
   "name": "python3"
  },
  "language_info": {
   "codemirror_mode": {
    "name": "ipython",
    "version": 3
   },
   "file_extension": ".py",
   "mimetype": "text/x-python",
   "name": "python",
   "nbconvert_exporter": "python",
   "pygments_lexer": "ipython3",
   "version": "3.7.5"
  }
 },
 "nbformat": 4,
 "nbformat_minor": 2
}
